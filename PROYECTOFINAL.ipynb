{
  "cells": [
    {
      "cell_type": "markdown",
      "source": [
        "ALGORITMO DE REGRESIÓN"
      ],
      "metadata": {
        "id": "VJKDkQFGsXxh"
      }
    },
    {
      "cell_type": "code",
      "source": [
        "import keras\n",
        "import tensorflow as tf\n",
        "from keras import models\n",
        "from keras import layers\n",
        "keras.__version__\n",
        "\n",
        "\n",
        "\n"
      ],
      "metadata": {
        "colab": {
          "base_uri": "https://localhost:8080/",
          "height": 35
        },
        "id": "3JtCnuOasM48",
        "outputId": "da22420e-a040-4fc9-9d6d-ad2f6cb16680"
      },
      "execution_count": null,
      "outputs": [
        {
          "output_type": "execute_result",
          "data": {
            "text/plain": [
              "'2.9.0'"
            ],
            "application/vnd.google.colaboratory.intrinsic+json": {
              "type": "string"
            }
          },
          "metadata": {},
          "execution_count": 120
        }
      ]
    },
    {
      "cell_type": "markdown",
      "source": [
        "Algoritmo para predecir la duración de la batería de un teléfono móvil\n",
        "\n",
        "Vamos a predecir la duración de la batería de un teléfono movil dados algunos datos como los píxeles de la cámara, si tiene o no conexión wifi, la cantidad de cores del procesador, etc.\n",
        "\n",
        "El conjunto de datos tiene un total de 1000 datos, que dividiremos entre 1750 ded entrenamiento (de los cuales 500 serán para validación) y 250 de test. Las 21 carácaterísticas en los datos de entrada. Por ejemplo, algunos valores son proporciones, que toman valores entre 0 y 1, otros toman valores entre 1 y 12, otros entre 0 y 100 ..."
      ],
      "metadata": {
        "id": "OEWSZyz7r7Ap"
      }
    },
    {
      "cell_type": "code",
      "source": [
        "import pandas as pd\n",
        "datos=pd.read_csv('train.csv.xls',encoding='latin-1')\n"
      ],
      "metadata": {
        "id": "eSjkQR3csRl-"
      },
      "execution_count": null,
      "outputs": []
    },
    {
      "cell_type": "markdown",
      "source": [
        "Compruebo que los datos se han importado correctamente. Deben haber 2000 datos con 21 características."
      ],
      "metadata": {
        "id": "0IQWYbSstcqY"
      }
    },
    {
      "cell_type": "code",
      "source": [
        "datos.shape"
      ],
      "metadata": {
        "colab": {
          "base_uri": "https://localhost:8080/"
        },
        "id": "Cg7tMW9qtcXY",
        "outputId": "cca0d7e5-48ad-43ee-8f6b-bee266187aa6"
      },
      "execution_count": null,
      "outputs": [
        {
          "output_type": "execute_result",
          "data": {
            "text/plain": [
              "(2000, 21)"
            ]
          },
          "metadata": {},
          "execution_count": 122
        }
      ]
    },
    {
      "cell_type": "code",
      "source": [
        "test_datos"
      ],
      "metadata": {
        "colab": {
          "base_uri": "https://localhost:8080/",
          "height": 488
        },
        "id": "vQurod7My1y-",
        "outputId": "47ed8924-3d9a-40db-f75a-7f0ccb2b4438"
      },
      "execution_count": null,
      "outputs": [
        {
          "output_type": "execute_result",
          "data": {
            "text/plain": [
              "      battery_power      blue  clock_speed  dual_sim        fc    four_g  \\\n",
              "1750       0.218106  1.029303    -1.248304  0.981026  1.288674  0.953346   \n",
              "1751      -1.678507  1.029303    -0.272971 -1.018758 -0.766754 -1.048337   \n",
              "1752       1.585220  1.029303    -1.248304  0.981026  0.146770 -1.048337   \n",
              "1753      -0.567014 -0.970976    -0.272971  0.981026 -0.766754 -1.048337   \n",
              "1754      -0.359322  1.029303     0.214696  0.981026 -0.995135  0.953346   \n",
              "...             ...       ...          ...       ...       ...       ...   \n",
              "1995      -1.025761  1.029303    -1.248304  0.981026 -0.995135  0.953346   \n",
              "1996       1.646842  1.029303     1.311946  0.981026 -0.995135 -1.048337   \n",
              "1997       1.523597 -0.970976    -0.760637  0.981026 -0.766754  0.953346   \n",
              "1998       0.612949 -0.970976    -0.760637 -1.018758 -0.081611  0.953346   \n",
              "1999      -1.673942  1.029303     0.580446  0.981026  0.146770  0.953346   \n",
              "\n",
              "      int_memory     m_dep  mobile_wt   n_cores        pc  px_height  \\\n",
              "1750   -0.619268 -0.001787  -1.724553 -0.220506  0.178391   0.414778   \n",
              "1751    0.983114  0.692697  -1.667990  0.213802 -0.150556  -1.227046   \n",
              "1752    0.651586 -0.001787  -0.565014 -1.089122 -0.150556   1.461412   \n",
              "1753   -1.227068 -1.390755  -1.045798 -0.220506 -1.137396  -0.876671   \n",
              "1754    0.596332 -1.043513  -0.847828  0.648110 -1.466343  -1.330362   \n",
              "...          ...       ...        ...       ...       ...        ...   \n",
              "1995   -1.669104  1.039939  -0.989236  0.648110  0.671811   1.288470   \n",
              "1996    0.375314 -1.043513   1.301560 -0.220506 -1.137396   0.598949   \n",
              "1997    0.209550  0.692697  -0.932673  1.516725 -1.137396   0.493387   \n",
              "1998    0.762096 -1.390755   0.113740  0.213802 -0.808449  -0.701483   \n",
              "1999    0.706841  1.387181   0.764213  0.648110  1.000758  -0.371322   \n",
              "\n",
              "      px_width       ram      sc_h      sc_w   three_g  touch_screen  \\\n",
              "1750  0.436213 -1.161790 -1.034857 -0.639792  0.556718      0.994583   \n",
              "1751 -0.135923  0.038832  0.389378 -0.411472 -1.795214     -1.004872   \n",
              "1752  1.585136  1.252305  1.338867  0.958448 -1.795214      0.994583   \n",
              "1753  1.478151 -1.398610 -0.322740 -0.639792  0.556718     -1.004872   \n",
              "1754 -0.240582  1.057709 -0.322740 -0.183152  0.556718      0.994583   \n",
              "...        ...       ...       ...       ...       ...           ...   \n",
              "1995  1.480477 -1.344453  0.152005 -0.411472  0.556718      0.994583   \n",
              "1996  1.654909 -0.092428 -0.322740  0.958448  0.556718      0.994583   \n",
              "1997  0.880432  0.848426 -0.797485 -1.096432  0.556718      0.994583   \n",
              "1998 -1.356945 -1.159954  1.338867  0.958448  0.556718      0.994583   \n",
              "1999 -1.161581  1.639662  1.576240 -0.411472  0.556718      0.994583   \n",
              "\n",
              "          wifi  price_range  \n",
              "1750 -1.017593    -1.361591  \n",
              "1751  0.982149    -0.462602  \n",
              "1752 -1.017593     1.335377  \n",
              "1753  0.982149    -1.361591  \n",
              "1754 -1.017593     0.436388  \n",
              "...        ...          ...  \n",
              "1995 -1.017593    -1.361591  \n",
              "1996  0.982149     0.436388  \n",
              "1997 -1.017593     1.335377  \n",
              "1998  0.982149    -1.361591  \n",
              "1999  0.982149     1.335377  \n",
              "\n",
              "[250 rows x 20 columns]"
            ],
            "text/html": [
              "\n",
              "  <div id=\"df-18ca8de0-44df-4201-9b27-0e1eb0b2d351\">\n",
              "    <div class=\"colab-df-container\">\n",
              "      <div>\n",
              "<style scoped>\n",
              "    .dataframe tbody tr th:only-of-type {\n",
              "        vertical-align: middle;\n",
              "    }\n",
              "\n",
              "    .dataframe tbody tr th {\n",
              "        vertical-align: top;\n",
              "    }\n",
              "\n",
              "    .dataframe thead th {\n",
              "        text-align: right;\n",
              "    }\n",
              "</style>\n",
              "<table border=\"1\" class=\"dataframe\">\n",
              "  <thead>\n",
              "    <tr style=\"text-align: right;\">\n",
              "      <th></th>\n",
              "      <th>battery_power</th>\n",
              "      <th>blue</th>\n",
              "      <th>clock_speed</th>\n",
              "      <th>dual_sim</th>\n",
              "      <th>fc</th>\n",
              "      <th>four_g</th>\n",
              "      <th>int_memory</th>\n",
              "      <th>m_dep</th>\n",
              "      <th>mobile_wt</th>\n",
              "      <th>n_cores</th>\n",
              "      <th>pc</th>\n",
              "      <th>px_height</th>\n",
              "      <th>px_width</th>\n",
              "      <th>ram</th>\n",
              "      <th>sc_h</th>\n",
              "      <th>sc_w</th>\n",
              "      <th>three_g</th>\n",
              "      <th>touch_screen</th>\n",
              "      <th>wifi</th>\n",
              "      <th>price_range</th>\n",
              "    </tr>\n",
              "  </thead>\n",
              "  <tbody>\n",
              "    <tr>\n",
              "      <th>1750</th>\n",
              "      <td>0.218106</td>\n",
              "      <td>1.029303</td>\n",
              "      <td>-1.248304</td>\n",
              "      <td>0.981026</td>\n",
              "      <td>1.288674</td>\n",
              "      <td>0.953346</td>\n",
              "      <td>-0.619268</td>\n",
              "      <td>-0.001787</td>\n",
              "      <td>-1.724553</td>\n",
              "      <td>-0.220506</td>\n",
              "      <td>0.178391</td>\n",
              "      <td>0.414778</td>\n",
              "      <td>0.436213</td>\n",
              "      <td>-1.161790</td>\n",
              "      <td>-1.034857</td>\n",
              "      <td>-0.639792</td>\n",
              "      <td>0.556718</td>\n",
              "      <td>0.994583</td>\n",
              "      <td>-1.017593</td>\n",
              "      <td>-1.361591</td>\n",
              "    </tr>\n",
              "    <tr>\n",
              "      <th>1751</th>\n",
              "      <td>-1.678507</td>\n",
              "      <td>1.029303</td>\n",
              "      <td>-0.272971</td>\n",
              "      <td>-1.018758</td>\n",
              "      <td>-0.766754</td>\n",
              "      <td>-1.048337</td>\n",
              "      <td>0.983114</td>\n",
              "      <td>0.692697</td>\n",
              "      <td>-1.667990</td>\n",
              "      <td>0.213802</td>\n",
              "      <td>-0.150556</td>\n",
              "      <td>-1.227046</td>\n",
              "      <td>-0.135923</td>\n",
              "      <td>0.038832</td>\n",
              "      <td>0.389378</td>\n",
              "      <td>-0.411472</td>\n",
              "      <td>-1.795214</td>\n",
              "      <td>-1.004872</td>\n",
              "      <td>0.982149</td>\n",
              "      <td>-0.462602</td>\n",
              "    </tr>\n",
              "    <tr>\n",
              "      <th>1752</th>\n",
              "      <td>1.585220</td>\n",
              "      <td>1.029303</td>\n",
              "      <td>-1.248304</td>\n",
              "      <td>0.981026</td>\n",
              "      <td>0.146770</td>\n",
              "      <td>-1.048337</td>\n",
              "      <td>0.651586</td>\n",
              "      <td>-0.001787</td>\n",
              "      <td>-0.565014</td>\n",
              "      <td>-1.089122</td>\n",
              "      <td>-0.150556</td>\n",
              "      <td>1.461412</td>\n",
              "      <td>1.585136</td>\n",
              "      <td>1.252305</td>\n",
              "      <td>1.338867</td>\n",
              "      <td>0.958448</td>\n",
              "      <td>-1.795214</td>\n",
              "      <td>0.994583</td>\n",
              "      <td>-1.017593</td>\n",
              "      <td>1.335377</td>\n",
              "    </tr>\n",
              "    <tr>\n",
              "      <th>1753</th>\n",
              "      <td>-0.567014</td>\n",
              "      <td>-0.970976</td>\n",
              "      <td>-0.272971</td>\n",
              "      <td>0.981026</td>\n",
              "      <td>-0.766754</td>\n",
              "      <td>-1.048337</td>\n",
              "      <td>-1.227068</td>\n",
              "      <td>-1.390755</td>\n",
              "      <td>-1.045798</td>\n",
              "      <td>-0.220506</td>\n",
              "      <td>-1.137396</td>\n",
              "      <td>-0.876671</td>\n",
              "      <td>1.478151</td>\n",
              "      <td>-1.398610</td>\n",
              "      <td>-0.322740</td>\n",
              "      <td>-0.639792</td>\n",
              "      <td>0.556718</td>\n",
              "      <td>-1.004872</td>\n",
              "      <td>0.982149</td>\n",
              "      <td>-1.361591</td>\n",
              "    </tr>\n",
              "    <tr>\n",
              "      <th>1754</th>\n",
              "      <td>-0.359322</td>\n",
              "      <td>1.029303</td>\n",
              "      <td>0.214696</td>\n",
              "      <td>0.981026</td>\n",
              "      <td>-0.995135</td>\n",
              "      <td>0.953346</td>\n",
              "      <td>0.596332</td>\n",
              "      <td>-1.043513</td>\n",
              "      <td>-0.847828</td>\n",
              "      <td>0.648110</td>\n",
              "      <td>-1.466343</td>\n",
              "      <td>-1.330362</td>\n",
              "      <td>-0.240582</td>\n",
              "      <td>1.057709</td>\n",
              "      <td>-0.322740</td>\n",
              "      <td>-0.183152</td>\n",
              "      <td>0.556718</td>\n",
              "      <td>0.994583</td>\n",
              "      <td>-1.017593</td>\n",
              "      <td>0.436388</td>\n",
              "    </tr>\n",
              "    <tr>\n",
              "      <th>...</th>\n",
              "      <td>...</td>\n",
              "      <td>...</td>\n",
              "      <td>...</td>\n",
              "      <td>...</td>\n",
              "      <td>...</td>\n",
              "      <td>...</td>\n",
              "      <td>...</td>\n",
              "      <td>...</td>\n",
              "      <td>...</td>\n",
              "      <td>...</td>\n",
              "      <td>...</td>\n",
              "      <td>...</td>\n",
              "      <td>...</td>\n",
              "      <td>...</td>\n",
              "      <td>...</td>\n",
              "      <td>...</td>\n",
              "      <td>...</td>\n",
              "      <td>...</td>\n",
              "      <td>...</td>\n",
              "      <td>...</td>\n",
              "    </tr>\n",
              "    <tr>\n",
              "      <th>1995</th>\n",
              "      <td>-1.025761</td>\n",
              "      <td>1.029303</td>\n",
              "      <td>-1.248304</td>\n",
              "      <td>0.981026</td>\n",
              "      <td>-0.995135</td>\n",
              "      <td>0.953346</td>\n",
              "      <td>-1.669104</td>\n",
              "      <td>1.039939</td>\n",
              "      <td>-0.989236</td>\n",
              "      <td>0.648110</td>\n",
              "      <td>0.671811</td>\n",
              "      <td>1.288470</td>\n",
              "      <td>1.480477</td>\n",
              "      <td>-1.344453</td>\n",
              "      <td>0.152005</td>\n",
              "      <td>-0.411472</td>\n",
              "      <td>0.556718</td>\n",
              "      <td>0.994583</td>\n",
              "      <td>-1.017593</td>\n",
              "      <td>-1.361591</td>\n",
              "    </tr>\n",
              "    <tr>\n",
              "      <th>1996</th>\n",
              "      <td>1.646842</td>\n",
              "      <td>1.029303</td>\n",
              "      <td>1.311946</td>\n",
              "      <td>0.981026</td>\n",
              "      <td>-0.995135</td>\n",
              "      <td>-1.048337</td>\n",
              "      <td>0.375314</td>\n",
              "      <td>-1.043513</td>\n",
              "      <td>1.301560</td>\n",
              "      <td>-0.220506</td>\n",
              "      <td>-1.137396</td>\n",
              "      <td>0.598949</td>\n",
              "      <td>1.654909</td>\n",
              "      <td>-0.092428</td>\n",
              "      <td>-0.322740</td>\n",
              "      <td>0.958448</td>\n",
              "      <td>0.556718</td>\n",
              "      <td>0.994583</td>\n",
              "      <td>0.982149</td>\n",
              "      <td>0.436388</td>\n",
              "    </tr>\n",
              "    <tr>\n",
              "      <th>1997</th>\n",
              "      <td>1.523597</td>\n",
              "      <td>-0.970976</td>\n",
              "      <td>-0.760637</td>\n",
              "      <td>0.981026</td>\n",
              "      <td>-0.766754</td>\n",
              "      <td>0.953346</td>\n",
              "      <td>0.209550</td>\n",
              "      <td>0.692697</td>\n",
              "      <td>-0.932673</td>\n",
              "      <td>1.516725</td>\n",
              "      <td>-1.137396</td>\n",
              "      <td>0.493387</td>\n",
              "      <td>0.880432</td>\n",
              "      <td>0.848426</td>\n",
              "      <td>-0.797485</td>\n",
              "      <td>-1.096432</td>\n",
              "      <td>0.556718</td>\n",
              "      <td>0.994583</td>\n",
              "      <td>-1.017593</td>\n",
              "      <td>1.335377</td>\n",
              "    </tr>\n",
              "    <tr>\n",
              "      <th>1998</th>\n",
              "      <td>0.612949</td>\n",
              "      <td>-0.970976</td>\n",
              "      <td>-0.760637</td>\n",
              "      <td>-1.018758</td>\n",
              "      <td>-0.081611</td>\n",
              "      <td>0.953346</td>\n",
              "      <td>0.762096</td>\n",
              "      <td>-1.390755</td>\n",
              "      <td>0.113740</td>\n",
              "      <td>0.213802</td>\n",
              "      <td>-0.808449</td>\n",
              "      <td>-0.701483</td>\n",
              "      <td>-1.356945</td>\n",
              "      <td>-1.159954</td>\n",
              "      <td>1.338867</td>\n",
              "      <td>0.958448</td>\n",
              "      <td>0.556718</td>\n",
              "      <td>0.994583</td>\n",
              "      <td>0.982149</td>\n",
              "      <td>-1.361591</td>\n",
              "    </tr>\n",
              "    <tr>\n",
              "      <th>1999</th>\n",
              "      <td>-1.673942</td>\n",
              "      <td>1.029303</td>\n",
              "      <td>0.580446</td>\n",
              "      <td>0.981026</td>\n",
              "      <td>0.146770</td>\n",
              "      <td>0.953346</td>\n",
              "      <td>0.706841</td>\n",
              "      <td>1.387181</td>\n",
              "      <td>0.764213</td>\n",
              "      <td>0.648110</td>\n",
              "      <td>1.000758</td>\n",
              "      <td>-0.371322</td>\n",
              "      <td>-1.161581</td>\n",
              "      <td>1.639662</td>\n",
              "      <td>1.576240</td>\n",
              "      <td>-0.411472</td>\n",
              "      <td>0.556718</td>\n",
              "      <td>0.994583</td>\n",
              "      <td>0.982149</td>\n",
              "      <td>1.335377</td>\n",
              "    </tr>\n",
              "  </tbody>\n",
              "</table>\n",
              "<p>250 rows × 20 columns</p>\n",
              "</div>\n",
              "      <button class=\"colab-df-convert\" onclick=\"convertToInteractive('df-18ca8de0-44df-4201-9b27-0e1eb0b2d351')\"\n",
              "              title=\"Convert this dataframe to an interactive table.\"\n",
              "              style=\"display:none;\">\n",
              "        \n",
              "  <svg xmlns=\"http://www.w3.org/2000/svg\" height=\"24px\"viewBox=\"0 0 24 24\"\n",
              "       width=\"24px\">\n",
              "    <path d=\"M0 0h24v24H0V0z\" fill=\"none\"/>\n",
              "    <path d=\"M18.56 5.44l.94 2.06.94-2.06 2.06-.94-2.06-.94-.94-2.06-.94 2.06-2.06.94zm-11 1L8.5 8.5l.94-2.06 2.06-.94-2.06-.94L8.5 2.5l-.94 2.06-2.06.94zm10 10l.94 2.06.94-2.06 2.06-.94-2.06-.94-.94-2.06-.94 2.06-2.06.94z\"/><path d=\"M17.41 7.96l-1.37-1.37c-.4-.4-.92-.59-1.43-.59-.52 0-1.04.2-1.43.59L10.3 9.45l-7.72 7.72c-.78.78-.78 2.05 0 2.83L4 21.41c.39.39.9.59 1.41.59.51 0 1.02-.2 1.41-.59l7.78-7.78 2.81-2.81c.8-.78.8-2.07 0-2.86zM5.41 20L4 18.59l7.72-7.72 1.47 1.35L5.41 20z\"/>\n",
              "  </svg>\n",
              "      </button>\n",
              "      \n",
              "  <style>\n",
              "    .colab-df-container {\n",
              "      display:flex;\n",
              "      flex-wrap:wrap;\n",
              "      gap: 12px;\n",
              "    }\n",
              "\n",
              "    .colab-df-convert {\n",
              "      background-color: #E8F0FE;\n",
              "      border: none;\n",
              "      border-radius: 50%;\n",
              "      cursor: pointer;\n",
              "      display: none;\n",
              "      fill: #1967D2;\n",
              "      height: 32px;\n",
              "      padding: 0 0 0 0;\n",
              "      width: 32px;\n",
              "    }\n",
              "\n",
              "    .colab-df-convert:hover {\n",
              "      background-color: #E2EBFA;\n",
              "      box-shadow: 0px 1px 2px rgba(60, 64, 67, 0.3), 0px 1px 3px 1px rgba(60, 64, 67, 0.15);\n",
              "      fill: #174EA6;\n",
              "    }\n",
              "\n",
              "    [theme=dark] .colab-df-convert {\n",
              "      background-color: #3B4455;\n",
              "      fill: #D2E3FC;\n",
              "    }\n",
              "\n",
              "    [theme=dark] .colab-df-convert:hover {\n",
              "      background-color: #434B5C;\n",
              "      box-shadow: 0px 1px 3px 1px rgba(0, 0, 0, 0.15);\n",
              "      filter: drop-shadow(0px 1px 2px rgba(0, 0, 0, 0.3));\n",
              "      fill: #FFFFFF;\n",
              "    }\n",
              "  </style>\n",
              "\n",
              "      <script>\n",
              "        const buttonEl =\n",
              "          document.querySelector('#df-18ca8de0-44df-4201-9b27-0e1eb0b2d351 button.colab-df-convert');\n",
              "        buttonEl.style.display =\n",
              "          google.colab.kernel.accessAllowed ? 'block' : 'none';\n",
              "\n",
              "        async function convertToInteractive(key) {\n",
              "          const element = document.querySelector('#df-18ca8de0-44df-4201-9b27-0e1eb0b2d351');\n",
              "          const dataTable =\n",
              "            await google.colab.kernel.invokeFunction('convertToInteractive',\n",
              "                                                     [key], {});\n",
              "          if (!dataTable) return;\n",
              "\n",
              "          const docLinkHtml = 'Like what you see? Visit the ' +\n",
              "            '<a target=\"_blank\" href=https://colab.research.google.com/notebooks/data_table.ipynb>data table notebook</a>'\n",
              "            + ' to learn more about interactive tables.';\n",
              "          element.innerHTML = '';\n",
              "          dataTable['output_type'] = 'display_data';\n",
              "          await google.colab.output.renderOutput(dataTable, element);\n",
              "          const docLink = document.createElement('div');\n",
              "          docLink.innerHTML = docLinkHtml;\n",
              "          element.appendChild(docLink);\n",
              "        }\n",
              "      </script>\n",
              "    </div>\n",
              "  </div>\n",
              "  "
            ]
          },
          "metadata": {},
          "execution_count": 123
        }
      ]
    },
    {
      "cell_type": "markdown",
      "source": [
        "Pequeña visualización de los datos"
      ],
      "metadata": {
        "id": "gVdHYMfdy3wf"
      }
    },
    {
      "cell_type": "markdown",
      "source": [
        "Las características de nuestro modelo son:\n",
        "\n",
        "\n",
        "\n",
        "> ID\n",
        "\n",
        "> Energía total que una batería puede almacenar en una sola medida\n",
        "\n",
        "> Si tiene bluetooth\n",
        "\n",
        "> Velocidad con la que el microprocesador ejecuta las instrucciones\n",
        "\n",
        "> Tiene soporte dual SIM o no\n",
        "\n",
        "> Megapíxeles de la cámara frontal\n",
        "\n",
        "> Si tiene 4G\n",
        "\n",
        "> Memoria interna medida en gigabytes\n",
        "\n",
        "> Profundidad móvil en cm\n",
        "\n",
        "> Peso móvil\n",
        "\n",
        "> Número de núcleos del procesador\n",
        "\n",
        "> Megapíxeles cámara principal\n",
        "\n",
        "> Altura de resolución megapíxel\n",
        "\n",
        "> Ancho de resolución megapíxel\n",
        "\n",
        "> Memoria acceso aleatorio megabytes\n",
        "\n",
        "> Altura pantalla en cm\n",
        "\n",
        "> Anchura pantalla en cm\n",
        "\n",
        "> **Tiempo más largo de la duración de batería**\n",
        "\n",
        "> Tiene 3G\n",
        "\n",
        "> Tiene pantalla táctil\n",
        "\n",
        "> Tiene wifi\n",
        "\n",
        "\n",
        "\n",
        "\n",
        "\n",
        "\n",
        "\n",
        "\n",
        "\n",
        "\n",
        "\n",
        "\n",
        "\n",
        "\n",
        "\n",
        "\n",
        "\n",
        "\n",
        "\n",
        "\n",
        "\n",
        "\n",
        "\n",
        "\n",
        "\n",
        "\n",
        "\n",
        "\n",
        "\n",
        "\n",
        "\n",
        "\n",
        "\n",
        "\n",
        "\n",
        "\n",
        "\n"
      ],
      "metadata": {
        "id": "G0BNh0w9wbGy"
      }
    },
    {
      "cell_type": "markdown",
      "source": [
        "Se han importado correctamente.\n",
        "\n",
        "Separamos los datos en entrenamiento y test y sus correspondientes soluciones, que serán la **característica 17 (talk_time)** que según explicaba la página donde hemos tomado la base, es el tiempo que dura el móvil desde su última carga."
      ],
      "metadata": {
        "id": "uOZMY8E9tvA5"
      }
    },
    {
      "cell_type": "code",
      "source": [
        "labels=datos.talk_time\n",
        "labels.shape"
      ],
      "metadata": {
        "colab": {
          "base_uri": "https://localhost:8080/"
        },
        "id": "jw6C2ogFuB_-",
        "outputId": "ddf964ad-bad4-49a7-d80f-5b0e62bba38e"
      },
      "execution_count": null,
      "outputs": [
        {
          "output_type": "execute_result",
          "data": {
            "text/plain": [
              "(2000,)"
            ]
          },
          "metadata": {},
          "execution_count": 124
        }
      ]
    },
    {
      "cell_type": "code",
      "source": [
        "datos=datos.drop(['talk_time'],axis=1)"
      ],
      "metadata": {
        "id": "hhWIq0H-uEwz"
      },
      "execution_count": null,
      "outputs": []
    },
    {
      "cell_type": "code",
      "source": [
        "train_datos=datos[:1749]\n",
        "test_datos=datos[1750:]\n",
        "\n",
        "train_labels=labels[:1749]\n",
        "test_labels=labels[1750:]"
      ],
      "metadata": {
        "id": "MgC_jPiBuFOP"
      },
      "execution_count": null,
      "outputs": []
    },
    {
      "cell_type": "markdown",
      "source": [
        "Una vez hemos separado los datos, vamos a normalizarlos.\n",
        "Al tener 21 características tenemos datos con rangos muy distintos, en ese caso sería muy casi imposible que la red fuera capaz de entrenar bien con tanta variedad de datos, sabemos que podemos normalizarlos para que esta funcione muchísimo mejor.\n",
        "\n",
        "La normalización de esto consta en: **Restar la media de las características** y **dividirla entre la desviación media de estas**.\n"
      ],
      "metadata": {
        "id": "54AEEf1Ir6-F"
      }
    },
    {
      "cell_type": "code",
      "source": [
        "\n",
        "# Calculamos la media del primer eje de los datos de entrenamiento\n",
        "mean = train_datos.mean(axis=0)\n",
        "print(\"##### Media de las 21 características de los datos de entrenamiento ##### \")\n",
        "print(mean)\n",
        "# A los datos de entrenamiento le restamos la media\n",
        "train_datos -= mean\n",
        "\n",
        "# Calculamos la desviación estandar del primer eje de los datos de entrenamiento\n",
        "std = train_datos.std(axis=0)\n",
        "print(\"##### Desviación estandar de las 21 características de los datos de entrenamiento ##### \")\n",
        "print(std)\n",
        "# A los datos de entrenamiento los dividimos por la desviación estándar\n",
        "train_datos /= std\n",
        "\n",
        "test_datos -= mean\n",
        "test_datos /= std"
      ],
      "metadata": {
        "colab": {
          "base_uri": "https://localhost:8080/"
        },
        "id": "vzWjYawRuxPK",
        "outputId": "4a3e4af0-dd29-4983-ff5a-99df27ba0d1d"
      },
      "execution_count": null,
      "outputs": [
        {
          "output_type": "stream",
          "name": "stdout",
          "text": [
            "##### Media de las 21 características de los datos de entrenamiento ##### \n",
            "battery_power    1243.436821\n",
            "blue                0.485420\n",
            "clock_speed         1.523899\n",
            "dual_sim            0.509434\n",
            "fc                  4.357347\n",
            "four_g              0.523728\n",
            "int_memory         32.207547\n",
            "m_dep               0.500515\n",
            "mobile_wt         140.978273\n",
            "n_cores             4.507719\n",
            "pc                  9.915380\n",
            "px_height         648.325901\n",
            "px_width         1253.442539\n",
            "ram              2132.694683\n",
            "sc_h               12.359634\n",
            "sc_w                5.802173\n",
            "three_g             0.763293\n",
            "touch_screen        0.502573\n",
            "wifi                0.508862\n",
            "price_range         1.514580\n",
            "dtype: float64\n",
            "##### Desviación estandar de las 21 características de los datos de entrenamiento ##### \n",
            "battery_power     438.149513\n",
            "blue                0.499930\n",
            "clock_speed         0.820232\n",
            "dual_sim            0.500054\n",
            "fc                  4.378650\n",
            "four_g              0.499580\n",
            "int_memory         18.098062\n",
            "m_dep               0.287984\n",
            "mobile_wt          35.358892\n",
            "n_cores             2.302514\n",
            "pc                  6.080010\n",
            "px_height         445.236520\n",
            "px_width          429.967750\n",
            "ram              1089.435101\n",
            "sc_h                4.212789\n",
            "sc_w                4.379818\n",
            "three_g             0.425182\n",
            "touch_screen        0.500136\n",
            "wifi                0.500064\n",
            "price_range         1.112360\n",
            "dtype: float64\n"
          ]
        }
      ]
    },
    {
      "cell_type": "markdown",
      "source": [
        "Es muy IMPORTANTE no hacer la media de los datos de test ya que la red no puede saber nada de ellos hasta el primer momento de la validación."
      ],
      "metadata": {
        "id": "0s1ly8Fnu7e7"
      }
    },
    {
      "cell_type": "markdown",
      "source": [
        "##CREAMOS LA RED"
      ],
      "metadata": {
        "id": "lUCDIm0vr62x"
      }
    },
    {
      "cell_type": "markdown",
      "source": [
        "A los datos de entrenamiento tenemos que partirlos junto a la validación. "
      ],
      "metadata": {
        "id": "hzCxskKKzGq6"
      }
    },
    {
      "cell_type": "code",
      "source": [
        "partial_train_datos = train_datos[:1499]\n",
        "partial_eval_train_datos = train_datos[1500:]\n",
        "partial_train_labels = train_labels[:1499]\n",
        "partial_eval_train_labels= train_labels[1500:]"
      ],
      "metadata": {
        "id": "dYT8gbjRzF6h"
      },
      "execution_count": null,
      "outputs": []
    },
    {
      "cell_type": "markdown",
      "source": [
        "Con estos datos, computamos el problema con las primeras 3/4 partes de los datos de entrenamiento para entrenar y el último 1/4 de los datos para validación."
      ],
      "metadata": {
        "id": "hHlTp8yDzdYP"
      }
    },
    {
      "cell_type": "markdown",
      "source": [
        "Como tenemos una base de datos tan pequeña, vamos a crear una base de datos muy pequeña con únicamente dos capas ocultas. En general, cuantos menos datos de entrenamiento tengamos, peor será el sobreajuste y el uso una red pequeña es una forma de reducir el sobreajuste."
      ],
      "metadata": {
        "id": "e8-4C3fQzSgs"
      }
    },
    {
      "cell_type": "code",
      "source": [
        "def build_model():\n",
        "\n",
        "    model = models.Sequential()\n",
        "    model.add(layers.Dense(64, activation='relu',\n",
        "                           input_shape=(train_datos.shape[1],)))\n",
        "    model.add(layers.Dense(64, activation='relu'))\n",
        "    model.add(layers.Dense(1))\n",
        "    # MSE: Mean Squared Error\n",
        "    # MAE: Mean Absolute Error\n",
        "    model.compile(optimizer='rmsprop', loss='mse', \n",
        "                  metrics=[tf.keras.metrics.MeanAbsoluteError()]) # metrics = ['mae']\n",
        "    return model"
      ],
      "metadata": {
        "id": "-qU5_K2IzTp2"
      },
      "execution_count": null,
      "outputs": []
    },
    {
      "cell_type": "code",
      "source": [
        "mymodel = build_model()\n",
        "\n"
      ],
      "metadata": {
        "id": "x5mNEZ1jzk4L"
      },
      "execution_count": null,
      "outputs": []
    },
    {
      "cell_type": "code",
      "source": [
        "\n",
        "history = mymodel.fit(partial_train_datos, partial_train_labels,\n",
        "            validation_data=(partial_eval_train_datos, partial_eval_train_labels),\n",
        "                        epochs=40, batch_size=1)"
      ],
      "metadata": {
        "colab": {
          "base_uri": "https://localhost:8080/"
        },
        "id": "WYsILkGwzmnH",
        "outputId": "f1f5bfb7-1ed9-4da1-a1bf-85043474a4cc"
      },
      "execution_count": null,
      "outputs": [
        {
          "output_type": "stream",
          "name": "stdout",
          "text": [
            "Epoch 1/40\n",
            "1499/1499 [==============================] - 2s 1ms/step - loss: 36.4096 - mean_absolute_error: 5.1142 - val_loss: 35.8120 - val_mean_absolute_error: 5.1880\n",
            "Epoch 2/40\n",
            "1499/1499 [==============================] - 2s 1ms/step - loss: 30.6572 - mean_absolute_error: 4.7303 - val_loss: 36.4061 - val_mean_absolute_error: 5.2086\n",
            "Epoch 3/40\n",
            "1499/1499 [==============================] - 2s 1ms/step - loss: 29.9524 - mean_absolute_error: 4.6669 - val_loss: 35.9085 - val_mean_absolute_error: 5.1671\n",
            "Epoch 4/40\n",
            "1499/1499 [==============================] - 2s 1ms/step - loss: 28.9336 - mean_absolute_error: 4.5659 - val_loss: 35.9039 - val_mean_absolute_error: 5.1190\n",
            "Epoch 5/40\n",
            "1499/1499 [==============================] - 2s 1ms/step - loss: 28.3665 - mean_absolute_error: 4.5143 - val_loss: 36.6407 - val_mean_absolute_error: 5.2262\n",
            "Epoch 6/40\n",
            "1499/1499 [==============================] - 2s 1ms/step - loss: 27.9823 - mean_absolute_error: 4.4877 - val_loss: 35.9403 - val_mean_absolute_error: 5.1848\n",
            "Epoch 7/40\n",
            "1499/1499 [==============================] - 2s 1ms/step - loss: 27.5595 - mean_absolute_error: 4.4509 - val_loss: 36.7006 - val_mean_absolute_error: 5.2053\n",
            "Epoch 8/40\n",
            "1499/1499 [==============================] - 2s 1ms/step - loss: 26.9354 - mean_absolute_error: 4.3707 - val_loss: 35.4693 - val_mean_absolute_error: 5.1085\n",
            "Epoch 9/40\n",
            "1499/1499 [==============================] - 2s 1ms/step - loss: 26.7381 - mean_absolute_error: 4.3376 - val_loss: 35.8507 - val_mean_absolute_error: 5.1552\n",
            "Epoch 10/40\n",
            "1499/1499 [==============================] - 2s 1ms/step - loss: 26.0475 - mean_absolute_error: 4.2873 - val_loss: 37.3957 - val_mean_absolute_error: 5.2149\n",
            "Epoch 11/40\n",
            "1499/1499 [==============================] - 2s 1ms/step - loss: 25.6900 - mean_absolute_error: 4.2414 - val_loss: 35.9806 - val_mean_absolute_error: 5.1577\n",
            "Epoch 12/40\n",
            "1499/1499 [==============================] - 2s 1ms/step - loss: 25.2503 - mean_absolute_error: 4.1929 - val_loss: 37.7013 - val_mean_absolute_error: 5.2867\n",
            "Epoch 13/40\n",
            "1499/1499 [==============================] - 2s 2ms/step - loss: 24.4748 - mean_absolute_error: 4.1320 - val_loss: 36.9955 - val_mean_absolute_error: 5.2688\n",
            "Epoch 14/40\n",
            "1499/1499 [==============================] - 3s 2ms/step - loss: 23.8079 - mean_absolute_error: 4.0585 - val_loss: 38.5558 - val_mean_absolute_error: 5.3105\n",
            "Epoch 15/40\n",
            "1499/1499 [==============================] - 2s 1ms/step - loss: 23.3920 - mean_absolute_error: 3.9858 - val_loss: 37.7356 - val_mean_absolute_error: 5.2162\n",
            "Epoch 16/40\n",
            "1499/1499 [==============================] - 2s 1ms/step - loss: 22.2849 - mean_absolute_error: 3.8992 - val_loss: 38.3920 - val_mean_absolute_error: 5.3276\n",
            "Epoch 17/40\n",
            "1499/1499 [==============================] - 2s 1ms/step - loss: 21.7420 - mean_absolute_error: 3.8367 - val_loss: 40.7955 - val_mean_absolute_error: 5.4381\n",
            "Epoch 18/40\n",
            "1499/1499 [==============================] - 2s 1ms/step - loss: 21.1200 - mean_absolute_error: 3.7780 - val_loss: 39.1111 - val_mean_absolute_error: 5.3301\n",
            "Epoch 19/40\n",
            "1499/1499 [==============================] - 2s 1ms/step - loss: 20.4032 - mean_absolute_error: 3.6611 - val_loss: 41.0281 - val_mean_absolute_error: 5.4280\n",
            "Epoch 20/40\n",
            "1499/1499 [==============================] - 2s 1ms/step - loss: 19.6372 - mean_absolute_error: 3.6009 - val_loss: 41.1691 - val_mean_absolute_error: 5.4010\n",
            "Epoch 21/40\n",
            "1499/1499 [==============================] - 2s 1ms/step - loss: 19.2538 - mean_absolute_error: 3.5409 - val_loss: 40.3569 - val_mean_absolute_error: 5.3523\n",
            "Epoch 22/40\n",
            "1499/1499 [==============================] - 2s 1ms/step - loss: 18.3096 - mean_absolute_error: 3.4357 - val_loss: 40.5757 - val_mean_absolute_error: 5.3465\n",
            "Epoch 23/40\n",
            "1499/1499 [==============================] - 3s 2ms/step - loss: 17.7948 - mean_absolute_error: 3.3803 - val_loss: 43.5471 - val_mean_absolute_error: 5.5710\n",
            "Epoch 24/40\n",
            "1499/1499 [==============================] - 2s 1ms/step - loss: 17.1936 - mean_absolute_error: 3.2835 - val_loss: 43.2123 - val_mean_absolute_error: 5.4514\n",
            "Epoch 25/40\n",
            "1499/1499 [==============================] - 2s 1ms/step - loss: 16.5124 - mean_absolute_error: 3.2182 - val_loss: 44.3866 - val_mean_absolute_error: 5.6050\n",
            "Epoch 26/40\n",
            "1499/1499 [==============================] - 2s 1ms/step - loss: 16.1734 - mean_absolute_error: 3.1872 - val_loss: 42.3367 - val_mean_absolute_error: 5.4310\n",
            "Epoch 27/40\n",
            "1499/1499 [==============================] - 2s 1ms/step - loss: 15.4868 - mean_absolute_error: 3.0996 - val_loss: 49.0177 - val_mean_absolute_error: 5.8635\n",
            "Epoch 28/40\n",
            "1499/1499 [==============================] - 2s 1ms/step - loss: 15.0968 - mean_absolute_error: 3.0343 - val_loss: 45.2292 - val_mean_absolute_error: 5.5973\n",
            "Epoch 29/40\n",
            "1499/1499 [==============================] - 2s 1ms/step - loss: 14.5106 - mean_absolute_error: 2.9638 - val_loss: 45.2211 - val_mean_absolute_error: 5.5870\n",
            "Epoch 30/40\n",
            "1499/1499 [==============================] - 2s 1ms/step - loss: 14.1027 - mean_absolute_error: 2.8912 - val_loss: 45.3535 - val_mean_absolute_error: 5.5786\n",
            "Epoch 31/40\n",
            "1499/1499 [==============================] - 2s 1ms/step - loss: 13.5032 - mean_absolute_error: 2.8403 - val_loss: 44.3179 - val_mean_absolute_error: 5.5107\n",
            "Epoch 32/40\n",
            "1499/1499 [==============================] - 2s 1ms/step - loss: 13.2434 - mean_absolute_error: 2.8244 - val_loss: 45.4009 - val_mean_absolute_error: 5.5995\n",
            "Epoch 33/40\n",
            "1499/1499 [==============================] - 2s 1ms/step - loss: 12.8775 - mean_absolute_error: 2.7422 - val_loss: 45.3460 - val_mean_absolute_error: 5.6105\n",
            "Epoch 34/40\n",
            "1499/1499 [==============================] - 2s 1ms/step - loss: 12.2486 - mean_absolute_error: 2.7083 - val_loss: 49.4923 - val_mean_absolute_error: 5.8756\n",
            "Epoch 35/40\n",
            "1499/1499 [==============================] - 2s 1ms/step - loss: 11.8101 - mean_absolute_error: 2.6037 - val_loss: 50.5432 - val_mean_absolute_error: 5.9067\n",
            "Epoch 36/40\n",
            "1499/1499 [==============================] - 2s 1ms/step - loss: 11.6281 - mean_absolute_error: 2.6253 - val_loss: 50.2995 - val_mean_absolute_error: 5.9002\n",
            "Epoch 37/40\n",
            "1499/1499 [==============================] - 2s 1ms/step - loss: 11.3867 - mean_absolute_error: 2.5812 - val_loss: 50.9902 - val_mean_absolute_error: 5.9392\n",
            "Epoch 38/40\n",
            "1499/1499 [==============================] - 2s 1ms/step - loss: 10.9130 - mean_absolute_error: 2.5196 - val_loss: 52.7788 - val_mean_absolute_error: 6.0429\n",
            "Epoch 39/40\n",
            "1499/1499 [==============================] - 2s 1ms/step - loss: 10.7234 - mean_absolute_error: 2.4995 - val_loss: 50.9970 - val_mean_absolute_error: 5.9400\n",
            "Epoch 40/40\n",
            "1499/1499 [==============================] - 2s 1ms/step - loss: 10.2126 - mean_absolute_error: 2.4516 - val_loss: 52.8585 - val_mean_absolute_error: 6.0470\n"
          ]
        }
      ]
    },
    {
      "cell_type": "markdown",
      "source": [
        " Nuestra primera red de entrenamiento se basa en 40 épocas, con una función de activación 'relu', que sabemos que es buena para casi todos los tipos de problemas. En las capas ponemos 64 neuronas."
      ],
      "metadata": {
        "id": "QHOMDpa7DWNw"
      }
    },
    {
      "cell_type": "markdown",
      "source": [
        "Podemos observar que tanto para los datos de validación como para los de entrenamiento nuestra red no funciona bien. "
      ],
      "metadata": {
        "id": "HxsTVDzI0LiY"
      }
    },
    {
      "cell_type": "code",
      "source": [
        "\n",
        "mae_history = history.history['val_mean_absolute_error']"
      ],
      "metadata": {
        "id": "00Gfn3av0Rpz"
      },
      "execution_count": null,
      "outputs": []
    },
    {
      "cell_type": "code",
      "source": [
        "mse_history = history.history['val_loss']"
      ],
      "metadata": {
        "id": "kQj7_fyP0R_I"
      },
      "execution_count": null,
      "outputs": []
    },
    {
      "cell_type": "markdown",
      "source": [
        "Confrontamos en una gráfica las épocas frente a la pérdida pérdida (MSE)"
      ],
      "metadata": {
        "id": "9dnsbxaX0WNs"
      }
    },
    {
      "cell_type": "code",
      "source": [
        "import matplotlib.pyplot as plt\n",
        "\n",
        "plt.plot(range(1, len(mse_history) + 1), mse_history)\n",
        "plt.xlabel('Epochs')\n",
        "plt.ylabel('Validación MSE')\n",
        "plt.show()"
      ],
      "metadata": {
        "colab": {
          "base_uri": "https://localhost:8080/",
          "height": 279
        },
        "id": "7hQF9_M30ZCr",
        "outputId": "20e5a40d-4ac8-418b-866e-4a09a6ebe656"
      },
      "execution_count": null,
      "outputs": [
        {
          "output_type": "display_data",
          "data": {
            "text/plain": [
              "<Figure size 432x288 with 1 Axes>"
            ],
            "image/png": "[encoded data removed]"
          },
          "metadata": {
            "needs_background": "light"
          }
        }
      ]
    },
    {
      "cell_type": "markdown",
      "source": [
        "No es un buen entrenamiento ya que el error no para de subir (aunque tenga picos)."
      ],
      "metadata": {
        "id": "Z5CXUbSGDoPO"
      }
    },
    {
      "cell_type": "markdown",
      "source": [
        "Realizamos la gráfica de entreno y validación"
      ],
      "metadata": {
        "id": "tW6qYf3E_w5f"
      }
    },
    {
      "cell_type": "code",
      "source": [
        "import matplotlib.pyplot as plt\n",
        "\n",
        "loss = history.history['loss']\n",
        "val_loss = history.history['val_loss']\n",
        "\n",
        "epochs = range(1, len(loss) + 1)\n",
        "\n",
        "plt.plot(epochs, loss, 'bo', label='Pérdida del entreno')\n",
        "plt.plot(epochs, val_loss, 'b', label='Pérdida de la validación')\n",
        "plt.title('Perdidas del entreno y la validación')\n",
        "plt.xlabel('Épocas')\n",
        "plt.ylabel('Pérdida')\n",
        "plt.legend()\n",
        "\n",
        "plt.show()"
      ],
      "metadata": {
        "colab": {
          "base_uri": "https://localhost:8080/",
          "height": 297
        },
        "id": "Owyyiqnt0amK",
        "outputId": "29fc2d09-3227-46b2-82ba-73cb6b3d42e8"
      },
      "execution_count": null,
      "outputs": [
        {
          "output_type": "display_data",
          "data": {
            "text/plain": [
              "<Figure size 432x288 with 1 Axes>"
            ],
            "image/png": "[encoded data removed]"
          },
          "metadata": {
            "needs_background": "light"
          }
        }
      ]
    },
    {
      "cell_type": "markdown",
      "source": [
        "Confrontamos en una gráfica las épocas contra la métrica de error absoluto medio (MAE)"
      ],
      "metadata": {
        "id": "o8j5SfdR0hD9"
      }
    },
    {
      "cell_type": "code",
      "source": [
        " import matplotlib.pyplot as plt\n",
        "\n",
        "plt.plot(range(1, len(mae_history) + 1), mae_history)\n",
        "plt.xlabel('Epochs')\n",
        "plt.ylabel('Validación MAE')\n",
        "plt.show()"
      ],
      "metadata": {
        "colab": {
          "base_uri": "https://localhost:8080/",
          "height": 279
        },
        "id": "wIovaokZ0k86",
        "outputId": "6c1baaf8-6e00-4e61-c119-72270594fb5b"
      },
      "execution_count": null,
      "outputs": [
        {
          "output_type": "display_data",
          "data": {
            "text/plain": [
              "<Figure size 432x288 with 1 Axes>"
            ],
            "image/png": "[encoded data removed]"
          },
          "metadata": {
            "needs_background": "light"
          }
        }
      ]
    },
    {
      "cell_type": "markdown",
      "source": [
        "Realizamos la gráfica para comparar el mae de entreno y validación"
      ],
      "metadata": {
        "id": "OEUMPqVW_7J9"
      }
    },
    {
      "cell_type": "code",
      "source": [
        "import matplotlib.pyplot as plt\n",
        "\n",
        "loss = history.history['mean_absolute_error']\n",
        "val_loss = history.history['val_mean_absolute_error']\n",
        "\n",
        "epochs = range(1, len(loss) + 1)\n",
        "\n",
        "plt.plot(epochs, loss, 'bo', label='Pérdida del entreno')\n",
        "plt.plot(epochs, val_loss, 'b', label='Pérdida de la validación')\n",
        "plt.title('Perdidas del entreno y la validación')\n",
        "plt.xlabel('Épocas')\n",
        "plt.ylabel('Pérdida')\n",
        "plt.legend()\n",
        "\n",
        "plt.show()"
      ],
      "metadata": {
        "colab": {
          "base_uri": "https://localhost:8080/",
          "height": 297
        },
        "id": "YC9Q5DOK0mnb",
        "outputId": "87e1f7b7-359c-4819-bd14-f767ca3c60f2"
      },
      "execution_count": null,
      "outputs": [
        {
          "output_type": "display_data",
          "data": {
            "text/plain": [
              "<Figure size 432x288 with 1 Axes>"
            ],
            "image/png": "[encoded data removed]"
          },
          "metadata": {
            "needs_background": "light"
          }
        }
      ]
    },
    {
      "cell_type": "markdown",
      "source": [
        "Debemos solventar el hecho de que nuestro modelo no funcione, primero, reduciremos el número de épocas."
      ],
      "metadata": {
        "id": "ANgKVPFn0zZp"
      }
    },
    {
      "cell_type": "code",
      "source": [
        "\n",
        "history = mymodel.fit(partial_train_datos, partial_train_labels,\n",
        "            validation_data=(partial_eval_train_datos, partial_eval_train_labels),\n",
        "                        epochs=20, batch_size=1)"
      ],
      "metadata": {
        "colab": {
          "base_uri": "https://localhost:8080/"
        },
        "id": "8W9AQZUG1M44",
        "outputId": "bd8004f1-23dc-4de6-8b99-a781bb28cf28"
      },
      "execution_count": null,
      "outputs": [
        {
          "output_type": "stream",
          "name": "stdout",
          "text": [
            "Epoch 1/20\n",
            "1499/1499 [==============================] - 2s 2ms/step - loss: 10.2509 - mean_absolute_error: 2.4105 - val_loss: 54.1325 - val_mean_absolute_error: 6.0642\n",
            "Epoch 2/20\n",
            "1499/1499 [==============================] - 2s 1ms/step - loss: 9.9450 - mean_absolute_error: 2.3537 - val_loss: 54.2278 - val_mean_absolute_error: 6.1088\n",
            "Epoch 3/20\n",
            "1499/1499 [==============================] - 2s 1ms/step - loss: 9.3656 - mean_absolute_error: 2.2785 - val_loss: 55.7442 - val_mean_absolute_error: 6.2035\n",
            "Epoch 4/20\n",
            "1499/1499 [==============================] - 2s 1ms/step - loss: 9.2325 - mean_absolute_error: 2.2709 - val_loss: 56.1735 - val_mean_absolute_error: 6.2174\n",
            "Epoch 5/20\n",
            "1499/1499 [==============================] - 2s 1ms/step - loss: 8.7296 - mean_absolute_error: 2.2198 - val_loss: 56.2520 - val_mean_absolute_error: 6.2086\n",
            "Epoch 6/20\n",
            "1499/1499 [==============================] - 3s 2ms/step - loss: 8.6154 - mean_absolute_error: 2.2045 - val_loss: 56.5751 - val_mean_absolute_error: 6.2994\n",
            "Epoch 7/20\n",
            "1499/1499 [==============================] - 2s 1ms/step - loss: 8.3039 - mean_absolute_error: 2.1445 - val_loss: 57.2162 - val_mean_absolute_error: 6.3464\n",
            "Epoch 8/20\n",
            "1499/1499 [==============================] - 2s 1ms/step - loss: 8.1576 - mean_absolute_error: 2.1574 - val_loss: 58.5714 - val_mean_absolute_error: 6.4093\n",
            "Epoch 9/20\n",
            "1499/1499 [==============================] - 2s 1ms/step - loss: 7.8411 - mean_absolute_error: 2.0849 - val_loss: 58.1814 - val_mean_absolute_error: 6.3861\n",
            "Epoch 10/20\n",
            "1499/1499 [==============================] - 2s 1ms/step - loss: 7.6412 - mean_absolute_error: 2.0764 - val_loss: 59.8723 - val_mean_absolute_error: 6.3965\n",
            "Epoch 11/20\n",
            "1499/1499 [==============================] - 2s 1ms/step - loss: 7.3925 - mean_absolute_error: 2.0638 - val_loss: 59.8250 - val_mean_absolute_error: 6.4798\n",
            "Epoch 12/20\n",
            "1499/1499 [==============================] - 2s 2ms/step - loss: 7.2353 - mean_absolute_error: 2.0266 - val_loss: 60.5380 - val_mean_absolute_error: 6.5588\n",
            "Epoch 13/20\n",
            "1499/1499 [==============================] - 2s 1ms/step - loss: 7.3034 - mean_absolute_error: 2.0147 - val_loss: 60.8743 - val_mean_absolute_error: 6.5249\n",
            "Epoch 14/20\n",
            "1499/1499 [==============================] - 2s 1ms/step - loss: 7.0544 - mean_absolute_error: 2.0058 - val_loss: 66.9546 - val_mean_absolute_error: 6.8512\n",
            "Epoch 15/20\n",
            "1499/1499 [==============================] - 2s 1ms/step - loss: 6.8022 - mean_absolute_error: 1.9860 - val_loss: 63.8918 - val_mean_absolute_error: 6.7259\n",
            "Epoch 16/20\n",
            "1499/1499 [==============================] - 2s 1ms/step - loss: 6.6627 - mean_absolute_error: 1.9188 - val_loss: 61.2909 - val_mean_absolute_error: 6.5958\n",
            "Epoch 17/20\n",
            "1499/1499 [==============================] - 2s 1ms/step - loss: 6.6208 - mean_absolute_error: 1.9407 - val_loss: 63.2209 - val_mean_absolute_error: 6.5473\n",
            "Epoch 18/20\n",
            "1499/1499 [==============================] - 2s 1ms/step - loss: 6.4988 - mean_absolute_error: 1.9206 - val_loss: 63.7378 - val_mean_absolute_error: 6.7059\n",
            "Epoch 19/20\n",
            "1499/1499 [==============================] - 2s 1ms/step - loss: 6.2932 - mean_absolute_error: 1.8848 - val_loss: 63.2139 - val_mean_absolute_error: 6.6109\n",
            "Epoch 20/20\n",
            "1499/1499 [==============================] - 2s 1ms/step - loss: 6.3502 - mean_absolute_error: 1.9119 - val_loss: 67.3416 - val_mean_absolute_error: 6.9009\n"
          ]
        }
      ]
    },
    {
      "cell_type": "markdown",
      "source": [
        "En el primer modelo de entrenamiento ya podíamos haber observado que no es culpa del número de epocas que nuestro entrenamiento no acabe de predecir bien.\n",
        "\n"
      ],
      "metadata": {
        "id": "JhNNbYLq2pKg"
      }
    },
    {
      "cell_type": "markdown",
      "source": [
        "Vamos a probar por minimizar nuestra red."
      ],
      "metadata": {
        "id": "ljc_gZLzD0g5"
      }
    },
    {
      "cell_type": "code",
      "source": [
        "def build_model():\n",
        "\n",
        "    model1 = models.Sequential()\n",
        "    model1.add(layers.Dense(16, activation='relu',\n",
        "                           input_shape=(train_datos.shape[1],)))\n",
        "    model1.add(layers.Dense(16, activation='relu'))\n",
        "    model1.add(layers.Dense(1))\n",
        "    # MSE: Mean Squared Error\n",
        "    # MAE: Mean Absolute Error\n",
        "    model1.compile(optimizer='rmsprop', loss='mse', \n",
        "                  metrics=[tf.keras.metrics.MeanAbsoluteError()]) # metrics = ['mae']\n",
        "    return model1"
      ],
      "metadata": {
        "id": "07BOkQAOAvpQ"
      },
      "execution_count": null,
      "outputs": []
    },
    {
      "cell_type": "code",
      "source": [
        "mymodel1 = build_model()"
      ],
      "metadata": {
        "id": "v2ddJ-eYA4FV"
      },
      "execution_count": null,
      "outputs": []
    },
    {
      "cell_type": "code",
      "source": [
        "\n",
        "history1 = mymodel1.fit(partial_train_datos, partial_train_labels,\n",
        "            validation_data=(partial_eval_train_datos, partial_eval_train_labels),\n",
        "                        epochs=40, batch_size=1)"
      ],
      "metadata": {
        "colab": {
          "base_uri": "https://localhost:8080/"
        },
        "id": "uEPDEyHQAoKZ",
        "outputId": "aaf93462-4907-49cf-fa81-c5249d60c74b"
      },
      "execution_count": null,
      "outputs": [
        {
          "output_type": "stream",
          "name": "stdout",
          "text": [
            "Epoch 1/40\n",
            "1499/1499 [==============================] - 2s 1ms/step - loss: 55.2504 - mean_absolute_error: 6.0760 - val_loss: 35.5060 - val_mean_absolute_error: 5.1436\n",
            "Epoch 2/40\n",
            "1499/1499 [==============================] - 2s 1ms/step - loss: 31.7881 - mean_absolute_error: 4.7999 - val_loss: 34.1091 - val_mean_absolute_error: 5.0738\n",
            "Epoch 3/40\n",
            "1499/1499 [==============================] - 2s 1ms/step - loss: 30.3683 - mean_absolute_error: 4.6900 - val_loss: 34.5627 - val_mean_absolute_error: 5.1037\n",
            "Epoch 4/40\n",
            "1499/1499 [==============================] - 2s 1ms/step - loss: 29.7241 - mean_absolute_error: 4.6331 - val_loss: 34.0418 - val_mean_absolute_error: 5.0620\n",
            "Epoch 5/40\n",
            "1499/1499 [==============================] - 2s 1ms/step - loss: 29.3202 - mean_absolute_error: 4.6011 - val_loss: 34.3030 - val_mean_absolute_error: 5.0998\n",
            "Epoch 6/40\n",
            "1499/1499 [==============================] - 2s 1ms/step - loss: 28.7947 - mean_absolute_error: 4.5612 - val_loss: 34.4677 - val_mean_absolute_error: 5.1074\n",
            "Epoch 7/40\n",
            "1499/1499 [==============================] - 2s 1ms/step - loss: 28.2748 - mean_absolute_error: 4.5085 - val_loss: 33.9761 - val_mean_absolute_error: 5.0630\n",
            "Epoch 8/40\n",
            "1499/1499 [==============================] - 2s 1ms/step - loss: 28.1879 - mean_absolute_error: 4.4894 - val_loss: 34.4857 - val_mean_absolute_error: 5.0843\n",
            "Epoch 9/40\n",
            "1499/1499 [==============================] - 2s 1ms/step - loss: 27.9571 - mean_absolute_error: 4.4620 - val_loss: 34.6637 - val_mean_absolute_error: 5.0967\n",
            "Epoch 10/40\n",
            "1499/1499 [==============================] - 2s 1ms/step - loss: 27.9206 - mean_absolute_error: 4.4776 - val_loss: 34.4970 - val_mean_absolute_error: 5.0867\n",
            "Epoch 11/40\n",
            "1499/1499 [==============================] - 2s 1ms/step - loss: 27.7484 - mean_absolute_error: 4.4581 - val_loss: 34.7198 - val_mean_absolute_error: 5.0989\n",
            "Epoch 12/40\n",
            "1499/1499 [==============================] - 2s 1ms/step - loss: 27.5004 - mean_absolute_error: 4.4117 - val_loss: 34.6445 - val_mean_absolute_error: 5.0759\n",
            "Epoch 13/40\n",
            "1499/1499 [==============================] - 2s 1ms/step - loss: 27.4581 - mean_absolute_error: 4.4292 - val_loss: 34.5483 - val_mean_absolute_error: 5.0850\n",
            "Epoch 14/40\n",
            "1499/1499 [==============================] - 2s 1ms/step - loss: 27.2790 - mean_absolute_error: 4.4250 - val_loss: 35.3459 - val_mean_absolute_error: 5.1086\n",
            "Epoch 15/40\n",
            "1499/1499 [==============================] - 2s 1ms/step - loss: 27.1009 - mean_absolute_error: 4.3839 - val_loss: 34.9849 - val_mean_absolute_error: 5.0605\n",
            "Epoch 16/40\n",
            "1499/1499 [==============================] - 2s 1ms/step - loss: 27.1428 - mean_absolute_error: 4.3900 - val_loss: 35.2076 - val_mean_absolute_error: 5.0925\n",
            "Epoch 17/40\n",
            "1499/1499 [==============================] - 2s 1ms/step - loss: 26.9342 - mean_absolute_error: 4.3676 - val_loss: 35.3093 - val_mean_absolute_error: 5.1077\n",
            "Epoch 18/40\n",
            "1499/1499 [==============================] - 2s 1ms/step - loss: 26.8484 - mean_absolute_error: 4.3581 - val_loss: 35.2716 - val_mean_absolute_error: 5.1386\n",
            "Epoch 19/40\n",
            "1499/1499 [==============================] - 2s 1ms/step - loss: 26.7164 - mean_absolute_error: 4.3412 - val_loss: 35.0348 - val_mean_absolute_error: 5.1043\n",
            "Epoch 20/40\n",
            "1499/1499 [==============================] - 2s 1ms/step - loss: 26.6037 - mean_absolute_error: 4.3358 - val_loss: 35.0595 - val_mean_absolute_error: 5.1257\n",
            "Epoch 21/40\n",
            "1499/1499 [==============================] - 2s 1ms/step - loss: 26.6783 - mean_absolute_error: 4.3255 - val_loss: 35.5722 - val_mean_absolute_error: 5.1197\n",
            "Epoch 22/40\n",
            "1499/1499 [==============================] - 2s 1ms/step - loss: 26.3782 - mean_absolute_error: 4.3069 - val_loss: 35.2366 - val_mean_absolute_error: 5.0996\n",
            "Epoch 23/40\n",
            "1499/1499 [==============================] - 2s 1ms/step - loss: 26.2843 - mean_absolute_error: 4.3005 - val_loss: 35.1902 - val_mean_absolute_error: 5.1262\n",
            "Epoch 24/40\n",
            "1499/1499 [==============================] - 2s 1ms/step - loss: 26.2124 - mean_absolute_error: 4.2857 - val_loss: 35.4027 - val_mean_absolute_error: 5.1301\n",
            "Epoch 25/40\n",
            "1499/1499 [==============================] - 2s 1ms/step - loss: 26.1641 - mean_absolute_error: 4.2783 - val_loss: 35.4063 - val_mean_absolute_error: 5.1301\n",
            "Epoch 26/40\n",
            "1499/1499 [==============================] - 2s 1ms/step - loss: 25.9668 - mean_absolute_error: 4.2761 - val_loss: 35.8855 - val_mean_absolute_error: 5.1508\n",
            "Epoch 27/40\n",
            "1499/1499 [==============================] - 2s 1ms/step - loss: 25.9588 - mean_absolute_error: 4.2522 - val_loss: 35.8689 - val_mean_absolute_error: 5.1671\n",
            "Epoch 28/40\n",
            "1499/1499 [==============================] - 2s 1ms/step - loss: 25.9420 - mean_absolute_error: 4.2427 - val_loss: 35.9303 - val_mean_absolute_error: 5.1519\n",
            "Epoch 29/40\n",
            "1499/1499 [==============================] - 2s 1ms/step - loss: 25.6945 - mean_absolute_error: 4.2335 - val_loss: 35.9274 - val_mean_absolute_error: 5.1387\n",
            "Epoch 30/40\n",
            "1499/1499 [==============================] - 2s 1ms/step - loss: 25.7869 - mean_absolute_error: 4.2185 - val_loss: 36.1806 - val_mean_absolute_error: 5.1717\n",
            "Epoch 31/40\n",
            "1499/1499 [==============================] - 2s 1ms/step - loss: 25.5147 - mean_absolute_error: 4.2118 - val_loss: 36.2156 - val_mean_absolute_error: 5.1551\n",
            "Epoch 32/40\n",
            "1499/1499 [==============================] - 2s 1ms/step - loss: 25.4437 - mean_absolute_error: 4.1868 - val_loss: 36.0252 - val_mean_absolute_error: 5.1399\n",
            "Epoch 33/40\n",
            "1499/1499 [==============================] - 2s 1ms/step - loss: 25.3912 - mean_absolute_error: 4.1833 - val_loss: 36.2973 - val_mean_absolute_error: 5.1763\n",
            "Epoch 34/40\n",
            "1499/1499 [==============================] - 2s 1ms/step - loss: 25.2894 - mean_absolute_error: 4.1569 - val_loss: 37.0370 - val_mean_absolute_error: 5.2063\n",
            "Epoch 35/40\n",
            "1499/1499 [==============================] - 2s 1ms/step - loss: 25.2530 - mean_absolute_error: 4.1653 - val_loss: 37.4393 - val_mean_absolute_error: 5.2346\n",
            "Epoch 36/40\n",
            "1499/1499 [==============================] - 2s 2ms/step - loss: 25.1191 - mean_absolute_error: 4.1441 - val_loss: 38.5544 - val_mean_absolute_error: 5.2407\n",
            "Epoch 37/40\n",
            "1499/1499 [==============================] - 2s 1ms/step - loss: 25.1259 - mean_absolute_error: 4.1503 - val_loss: 37.0351 - val_mean_absolute_error: 5.2055\n",
            "Epoch 38/40\n",
            "1499/1499 [==============================] - 2s 1ms/step - loss: 24.8680 - mean_absolute_error: 4.1090 - val_loss: 37.8452 - val_mean_absolute_error: 5.2110\n",
            "Epoch 39/40\n",
            "1499/1499 [==============================] - 2s 1ms/step - loss: 24.8811 - mean_absolute_error: 4.1237 - val_loss: 38.2960 - val_mean_absolute_error: 5.2764\n",
            "Epoch 40/40\n",
            "1499/1499 [==============================] - 2s 1ms/step - loss: 24.7201 - mean_absolute_error: 4.1010 - val_loss: 37.7968 - val_mean_absolute_error: 5.2241\n"
          ]
        }
      ]
    },
    {
      "cell_type": "markdown",
      "source": [
        "Apenas hemos reducido el error, así que podemos decir que tampoco es culpa de la cantidad de neuronas de nuestras capas. "
      ],
      "metadata": {
        "id": "eqqphEKGBpyM"
      }
    },
    {
      "cell_type": "markdown",
      "source": [
        "Podemos intentar validar los datos de diferente manera. Hemos estudiado la validación de k-iteraciones, y sabemos que puede servir para datasets pequeños, como es en nuestro caso."
      ],
      "metadata": {
        "id": "y62P6F7jHYtc"
      }
    },
    {
      "cell_type": "code",
      "source": [
        "import numpy as np\n",
        "\n",
        "# k= 4 particiones\n",
        "k = 4\n",
        "num_val_samples = len(train_datos) // k \n",
        "print(\"num_val_samples\", num_val_samples)\n",
        "num_epochs = 15\n",
        "all_scores = []\n",
        "for i in range(k):\n",
        "    print('processing fold #', i)\n",
        "    # Preparamos la validación de los datos: datos de la partición #k\n",
        "    print(\"Uso para validar el siguiente rango de datos de entrenamiento -> [\",(i * num_val_samples),\":\",((i + 1) * num_val_samples),\"]\")\n",
        "    val_data = train_datos[i * num_val_samples: (i + 1) * num_val_samples]\n",
        "    val_labels = train_labels[i * num_val_samples: (i + 1) * num_val_samples]\n",
        "\n",
        "    # Preparamos los datos de entrenamiento: Datos de las demás particiones\n",
        "    print(\"Uso para entrenar el siguiente rango de datos de entrenamiento -> [0:\",(i * num_val_samples),\"]U[\",(i + 1) * num_val_samples,\":\",len(train_datos),\"]\")\n",
        "    partial_train_data = np.concatenate(\n",
        "        [train_datos[:i * num_val_samples],\n",
        "         train_datos[(i + 1) * num_val_samples:]],\n",
        "        axis=0)\n",
        "    partial_train_targets = np.concatenate(\n",
        "        [train_labels[:i * num_val_samples],\n",
        "         train_labels[(i + 1) * num_val_samples:]],\n",
        "        axis=0)\n",
        "\n",
        "    # Construcción del modelo Keras (ya compilado)\n",
        "    model = build_model()\n",
        "    # Entrenando el modelo (en modo silencioso, verbose=0)\n",
        "    model.fit(partial_train_datos, partial_train_labels,\n",
        "              epochs=num_epochs, batch_size=1, verbose=0)\n",
        "    # Evalua el modelo sobre los datos de validación\n",
        "    val_mse, val_mae = model.evaluate(val_data, val_targets, verbose=0)\n",
        "    all_scores.append(val_mae)"
      ],
      "metadata": {
        "colab": {
          "base_uri": "https://localhost:8080/"
        },
        "id": "CY0_tU6NHiiX",
        "outputId": "c68531bf-0a3f-4a7e-bd36-33c39d2de5c9"
      },
      "execution_count": null,
      "outputs": [
        {
          "output_type": "stream",
          "name": "stdout",
          "text": [
            "num_val_samples 437\n",
            "processing fold # 0\n",
            "Uso para validar el siguiente rango de datos de entrenamiento -> [ 0 : 437 ]\n",
            "Uso para entrenar el siguiente rango de datos de entrenamiento -> [0: 0 ]U[ 437 : 1749 ]\n",
            "processing fold # 1\n",
            "Uso para validar el siguiente rango de datos de entrenamiento -> [ 437 : 874 ]\n",
            "Uso para entrenar el siguiente rango de datos de entrenamiento -> [0: 437 ]U[ 874 : 1749 ]\n",
            "processing fold # 2\n",
            "Uso para validar el siguiente rango de datos de entrenamiento -> [ 874 : 1311 ]\n",
            "Uso para entrenar el siguiente rango de datos de entrenamiento -> [0: 874 ]U[ 1311 : 1749 ]\n",
            "processing fold # 3\n",
            "Uso para validar el siguiente rango de datos de entrenamiento -> [ 1311 : 1748 ]\n",
            "Uso para entrenar el siguiente rango de datos de entrenamiento -> [0: 1311 ]U[ 1748 : 1749 ]\n"
          ]
        }
      ]
    },
    {
      "cell_type": "markdown",
      "source": [
        "Ahora mostramos los valores de error medio absoluto de validación obtenidos en cada una de las iteraciones"
      ],
      "metadata": {
        "id": "oAFt5VtZJsLj"
      }
    },
    {
      "cell_type": "code",
      "source": [
        "all_scores"
      ],
      "metadata": {
        "colab": {
          "base_uri": "https://localhost:8080/"
        },
        "id": "AdCFjfwlJvMh",
        "outputId": "570c55da-66e1-47a4-839c-239280e756ff"
      },
      "execution_count": null,
      "outputs": [
        {
          "output_type": "execute_result",
          "data": {
            "text/plain": [
              "[4.298025131225586, 4.744709491729736, 4.72075891494751, 4.726546764373779]"
            ]
          },
          "metadata": {},
          "execution_count": 144
        }
      ]
    },
    {
      "cell_type": "markdown",
      "source": [
        "Y realizamos la media para ver el error medio final\n"
      ],
      "metadata": {
        "id": "Acn3p-xkJySb"
      }
    },
    {
      "cell_type": "code",
      "source": [
        "np.mean(all_scores)"
      ],
      "metadata": {
        "colab": {
          "base_uri": "https://localhost:8080/"
        },
        "id": "6rHHpHKNJyiT",
        "outputId": "3f6f4c60-cfdc-4d33-d76c-f8059e2a78e2"
      },
      "execution_count": null,
      "outputs": [
        {
          "output_type": "execute_result",
          "data": {
            "text/plain": [
              "4.622510075569153"
            ]
          },
          "metadata": {},
          "execution_count": 145
        }
      ]
    },
    {
      "cell_type": "markdown",
      "source": [
        "Volvemos a realizar el algoritmo de validación de k-iteraciones con más épocas para ver si encontramos en número de épocas que necesitamos para validar nuestro entrenamiento."
      ],
      "metadata": {
        "id": "jqnkdmwBJ83m"
      }
    },
    {
      "cell_type": "code",
      "source": [
        "num_epochs = 30\n",
        "all_mae_histories = []\n",
        "for i in range(k):\n",
        "    print('processing fold #', i)\n",
        "    print(\"Uso para validar el siguiente rango de datos de entrenamiento -> [\",(i * num_val_samples),\":\",((i + 1) * num_val_samples),\"]\")\n",
        "    val_data = train_datos[i * num_val_samples: (i + 1) * num_val_samples]\n",
        "    val_targets = train_labels[i * num_val_samples: (i + 1) * num_val_samples]\n",
        "    print(\"Uso para entrenar el siguiente rango de datos de entrenamiento -> [0:\",(i * num_val_samples),\"]U[\",(i + 1) * num_val_samples,\":\",len(train_datos),\"]\")\n",
        "    partial_train_dat = np.concatenate(\n",
        "        [train_datos[:i * num_val_samples],\n",
        "         train_datos[(i + 1) * num_val_samples:]],\n",
        "        axis=0)\n",
        "    partial_train_targets = np.concatenate(\n",
        "        [train_labels[:i * num_val_samples],\n",
        "         train_labels[(i + 1) * num_val_samples:]],\n",
        "        axis=0)\n",
        "    model = build_model()\n",
        "    history = model.fit(partial_train_data, partial_train_targets,\n",
        "                        validation_data=(val_data, val_targets),\n",
        "                        epochs=num_epochs, batch_size=128, verbose=0)\n",
        "    mae_history = history.history['val_mean_absolute_error']\n",
        "    all_mae_histories.append(mae_history)"
      ],
      "metadata": {
        "colab": {
          "base_uri": "https://localhost:8080/"
        },
        "id": "9_t3_wfeJ8pi",
        "outputId": "696cb99d-f884-4817-fa14-7dbb302a164d"
      },
      "execution_count": null,
      "outputs": [
        {
          "output_type": "stream",
          "name": "stdout",
          "text": [
            "processing fold # 0\n",
            "Uso para validar el siguiente rango de datos de entrenamiento -> [ 0 : 437 ]\n",
            "Uso para entrenar el siguiente rango de datos de entrenamiento -> [0: 0 ]U[ 437 : 1749 ]\n",
            "processing fold # 1\n",
            "Uso para validar el siguiente rango de datos de entrenamiento -> [ 437 : 874 ]\n",
            "Uso para entrenar el siguiente rango de datos de entrenamiento -> [0: 437 ]U[ 874 : 1749 ]\n",
            "processing fold # 2\n",
            "Uso para validar el siguiente rango de datos de entrenamiento -> [ 874 : 1311 ]\n",
            "Uso para entrenar el siguiente rango de datos de entrenamiento -> [0: 874 ]U[ 1311 : 1749 ]\n",
            "processing fold # 3\n",
            "Uso para validar el siguiente rango de datos de entrenamiento -> [ 1311 : 1748 ]\n",
            "Uso para entrenar el siguiente rango de datos de entrenamiento -> [0: 1311 ]U[ 1748 : 1749 ]\n"
          ]
        }
      ]
    },
    {
      "cell_type": "code",
      "source": [
        "np.mean(all_mae_histories)"
      ],
      "metadata": {
        "colab": {
          "base_uri": "https://localhost:8080/"
        },
        "id": "0XPTS3bnLB1a",
        "outputId": "21f8a96e-b8b5-4d6b-f94c-130157cb295b"
      },
      "execution_count": null,
      "outputs": [
        {
          "output_type": "execute_result",
          "data": {
            "text/plain": [
              "6.55630608399709"
            ]
          },
          "metadata": {},
          "execution_count": 149
        }
      ]
    },
    {
      "cell_type": "markdown",
      "source": [
        "Nuestro sistema es mejor cuando tenemos menos épocas de entrenamiento."
      ],
      "metadata": {
        "id": "TTRUPA9wLG_J"
      }
    },
    {
      "cell_type": "markdown",
      "source": [
        "##CONCLUSIONES"
      ],
      "metadata": {
        "id": "-1ikuvamLNBi"
      }
    },
    {
      "cell_type": "markdown",
      "source": [
        "Al fin y al cabo nos hemos dado cuenta que para un set de datos con tan pocos datos, es muy difícil minimizar el error. La primera regla para que un algoritmo funcione mejor es obtener más datos de entrenamiento, en este caso no ha sido posible, se ha intentado: quitar capas, bajar épocas, cambiar la validación.., pero observamos que solo hemos llegado a un error de 4.62, el error más bajo que se encuentra en esta red de entrenamiento. \n",
        "\n",
        "Por tanto podemos concluir que no es un buen método hacer una predicción de 'datos', en este caso de la duración de la bateria de los móviles cuando tenemos pocos datos. Para trabajos futuros se ha aprendido de este error, y necesitaremos buscar un set de datos más amplio, ya sea para la regresión (como en este caso), como para la clasificación. \n",
        "\n",
        "Una opción de trabajo futuro, es indagar en los métodos para reducir el error en este tipo de datasets, es decir, cuando tenemos muy pocos datos, estamos seguros de que hay una solución ante este problema. "
      ],
      "metadata": {
        "id": "BalBXHAHLOLw"
      }
    }
  ],
  "metadata": {
    "colab": {
      "provenance": []
    },
    "kernelspec": {
      "display_name": "Python 3",
      "name": "python3"
    },
    "language_info": {
      "name": "python"
    }
  },
  "nbformat": 4,
  "nbformat_minor": 0
}